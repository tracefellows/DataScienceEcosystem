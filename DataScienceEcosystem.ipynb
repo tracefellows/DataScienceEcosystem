{
 "cells": [
  {
   "cell_type": "markdown",
   "id": "69352f93",
   "metadata": {},
   "source": [
    "# Data Science Tools and Ecosystem"
   ]
  },
  {
   "cell_type": "markdown",
   "id": "064671f4",
   "metadata": {},
   "source": [
    "## Author\n",
    "Trace Fellows"
   ]
  },
  {
   "cell_type": "markdown",
   "id": "52f19197",
   "metadata": {},
   "source": [
    "In this notebook, Data Science Tools and Ecosystem are summarized."
   ]
  },
  {
   "cell_type": "markdown",
   "id": "104a83f3",
   "metadata": {},
   "source": [
    "#### Objectives"
   ]
  },
  {
   "cell_type": "markdown",
   "id": "d83edb9c",
   "metadata": {},
   "source": [
    "- Learn popular languages that Data Scientists use"
   ]
  },
  {
   "cell_type": "markdown",
   "id": "7d1c5bdd",
   "metadata": {},
   "source": [
    "- Learn some of the commonly used libraries by Data Scientists"
   ]
  },
  {
   "cell_type": "markdown",
   "id": "8697ccee",
   "metadata": {},
   "source": [
    "- Learn how to calculate basic arithmatic expressions"
   ]
  },
  {
   "cell_type": "markdown",
   "id": "cd47c32b",
   "metadata": {},
   "source": [
    "Some of the popular languages that Data Scientists use are:"
   ]
  },
  {
   "cell_type": "markdown",
   "id": "0f103654",
   "metadata": {},
   "source": [
    "1. Python"
   ]
  },
  {
   "cell_type": "markdown",
   "id": "757c4901",
   "metadata": {},
   "source": [
    "2. R"
   ]
  },
  {
   "cell_type": "markdown",
   "id": "7da7cc92",
   "metadata": {},
   "source": [
    "3. Java Script"
   ]
  },
  {
   "cell_type": "markdown",
   "id": "e77cddb6",
   "metadata": {},
   "source": [
    "Some of the commonly used libraries used by Data Scientists include:"
   ]
  },
  {
   "cell_type": "markdown",
   "id": "cab7cbdb",
   "metadata": {},
   "source": [
    "1. TensorFlow"
   ]
  },
  {
   "cell_type": "markdown",
   "id": "92cbbc83",
   "metadata": {},
   "source": [
    "2. SciPy"
   ]
  },
  {
   "cell_type": "markdown",
   "id": "f1042c06",
   "metadata": {},
   "source": [
    "3. NumPy"
   ]
  },
  {
   "cell_type": "markdown",
   "id": "eca696b4",
   "metadata": {},
   "source": [
    "Data Science Tools | Jupyter Notebooks | RStudio | Github\n",
    "------------------------------------------------------------------------------------"
   ]
  },
  {
   "cell_type": "markdown",
   "id": "911e8e62",
   "metadata": {},
   "source": [
    "### Below are a few examples of evaluating arithmetic expressions in Python"
   ]
  },
  {
   "cell_type": "markdown",
   "id": "e36260ac",
   "metadata": {},
   "source": [
    "This a simple arithmetic expression to mutiply then add integers"
   ]
  },
  {
   "cell_type": "code",
   "execution_count": 10,
   "id": "ce27be11",
   "metadata": {},
   "outputs": [
    {
     "data": {
      "text/plain": [
       "17"
      ]
     },
     "execution_count": 10,
     "metadata": {},
     "output_type": "execute_result"
    }
   ],
   "source": [
    "(3*4)+5"
   ]
  },
  {
   "cell_type": "code",
   "execution_count": 48,
   "id": "b4130b7a",
   "metadata": {},
   "outputs": [],
   "source": [
    "minutes = 200"
   ]
  },
  {
   "cell_type": "code",
   "execution_count": 49,
   "id": "b3e3b2c6",
   "metadata": {},
   "outputs": [],
   "source": [
    "hours = minutes/60"
   ]
  },
  {
   "cell_type": "code",
   "execution_count": 50,
   "id": "99d54edb",
   "metadata": {},
   "outputs": [
    {
     "name": "stdout",
     "output_type": "stream",
     "text": [
      "3.3333333333333335\n"
     ]
    }
   ],
   "source": [
    "print(hours)"
   ]
  },
  {
   "cell_type": "code",
   "execution_count": 26,
   "id": "99532127",
   "metadata": {},
   "outputs": [],
   "source": []
  },
  {
   "cell_type": "code",
   "execution_count": null,
   "id": "5a18c1a2",
   "metadata": {},
   "outputs": [],
   "source": []
  },
  {
   "cell_type": "code",
   "execution_count": null,
   "id": "ee8c8cee",
   "metadata": {},
   "outputs": [],
   "source": []
  }
 ],
 "metadata": {
  "kernelspec": {
   "display_name": "Python 3 (ipykernel)",
   "language": "python",
   "name": "python3"
  },
  "language_info": {
   "codemirror_mode": {
    "name": "ipython",
    "version": 3
   },
   "file_extension": ".py",
   "mimetype": "text/x-python",
   "name": "python",
   "nbconvert_exporter": "python",
   "pygments_lexer": "ipython3",
   "version": "3.10.9"
  }
 },
 "nbformat": 4,
 "nbformat_minor": 5
}
